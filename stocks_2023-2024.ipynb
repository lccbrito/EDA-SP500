{
 "cells": [
  {
   "cell_type": "code",
   "execution_count": 5,
   "metadata": {},
   "outputs": [],
   "source": [
    "import pandas as pd\n",
    "import numpy as np\n",
    "import matplotlib.pyplot as plt\n",
    "import seaborn as sns\n",
    "import matplotlib.ticker as mticker"
   ]
  },
  {
   "cell_type": "code",
   "execution_count": 6,
   "metadata": {},
   "outputs": [
    {
     "name": "stdout",
     "output_type": "stream",
     "text": [
      "              date symbol   adj_close       close        high         low  \\\n",
      "3272    2023-01-03    MMM   93.823418  102.399666  102.541809  100.643814   \n",
      "3273    2023-01-04    MMM   95.876541  104.640465  104.757523  102.600334   \n",
      "3274    2023-01-05    MMM   94.198799  102.809364  104.155518  102.391304   \n",
      "3275    2023-01-06    MMM   97.079315  105.953178  106.295990  103.469902   \n",
      "3276    2023-01-09    MMM   97.132927  106.011703  108.244148  105.443146   \n",
      "...            ...    ...         ...         ...         ...         ...   \n",
      "1863093 2024-08-26    ZTS  181.559998  181.559998  182.589996  180.520004   \n",
      "1863094 2024-08-27    ZTS  182.100006  182.100006  183.089996  181.419998   \n",
      "1863095 2024-08-28    ZTS  182.910004  182.910004  184.610001  182.100006   \n",
      "1863096 2024-08-29    ZTS  182.889999  182.889999  184.710007  182.479996   \n",
      "1863097 2024-08-30    ZTS  183.490005  183.490005  184.220001  180.979996   \n",
      "\n",
      "               open     volume  year  month  \n",
      "3272     101.605354  3124909.0  2023      1  \n",
      "3273     103.135452  3312561.0  2023      1  \n",
      "3274     103.854515  3117494.0  2023      1  \n",
      "3275     104.230766  2890732.0  2023      1  \n",
      "3276     106.187294  3434075.0  2023      1  \n",
      "...             ...        ...   ...    ...  \n",
      "1863093  181.039993  1015900.0  2024      8  \n",
      "1863094  181.979996  1423900.0  2024      8  \n",
      "1863095  182.100006  1485400.0  2024      8  \n",
      "1863096  183.910004  1359900.0  2024      8  \n",
      "1863097  183.089996  2328500.0  2024      8  \n",
      "\n",
      "[210254 rows x 10 columns]\n"
     ]
    }
   ],
   "source": [
    "df_stocks = pd.read_csv('database/sp500_stocks.csv')\n",
    "df_stocks.columns = df_stocks.columns.str.lower().str.replace(' ', '_')\n",
    "\n",
    "df_stocks['date'] = pd.to_datetime(df_stocks['date'])\n",
    "\n",
    "# Filtrar para os anos de 2023 e 2024\n",
    "df_stocks = df_stocks[(df_stocks['date'].dt.year == 2023) | (df_stocks['date'].dt.year == 2024)]\n",
    "\n",
    "# Criar colunas de ano e mês\n",
    "df_stocks['year'] = df_stocks['date'].dt.year\n",
    "df_stocks['month'] = df_stocks['date'].dt.month\n",
    "\n",
    "# Remover as entradas de setembro de 2024\n",
    "df_stocks = df_stocks[~((df_stocks['year'] == 2024) & (df_stocks['month'] == 9))]\n",
    "\n",
    "print(df_stocks)"
   ]
  },
  {
   "cell_type": "code",
   "execution_count": 7,
   "metadata": {},
   "outputs": [],
   "source": [
    "# Salvar o DataFrame filtrado em um arquivo CSV\n",
    "# df_stocks.to_csv('stocks_2023-2024.csv', index=False)"
   ]
  }
 ],
 "metadata": {
  "kernelspec": {
   "display_name": "Python 3",
   "language": "python",
   "name": "python3"
  },
  "language_info": {
   "codemirror_mode": {
    "name": "ipython",
    "version": 3
   },
   "file_extension": ".py",
   "mimetype": "text/x-python",
   "name": "python",
   "nbconvert_exporter": "python",
   "pygments_lexer": "ipython3",
   "version": "3.12.4"
  }
 },
 "nbformat": 4,
 "nbformat_minor": 2
}
